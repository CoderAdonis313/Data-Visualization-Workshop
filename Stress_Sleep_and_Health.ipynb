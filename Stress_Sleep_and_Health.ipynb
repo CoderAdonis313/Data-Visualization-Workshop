{
  "nbformat": 4,
  "nbformat_minor": 0,
  "metadata": {
    "colab": {
      "provenance": []
    },
    "kernelspec": {
      "name": "python3",
      "display_name": "Python 3"
    },
    "language_info": {
      "name": "python"
    }
  },
  "cells": [
    {
      "cell_type": "markdown",
      "source": [
        "# How stress affects Sleep ?"
      ],
      "metadata": {
        "id": "pkciSG8CFQKO"
      }
    },
    {
      "cell_type": "markdown",
      "metadata": {
        "papermill": {
          "duration": 0.017204,
          "end_time": "2023-06-26T23:55:16.827505",
          "exception": false,
          "start_time": "2023-06-26T23:55:16.810301",
          "status": "completed"
        },
        "tags": [],
        "id": "758018c3"
      },
      "source": [
        "## Dataset Overview:\n",
        "\n",
        "**Sleep Health and Lifestyle Dataset**\n",
        "\n",
        "**Key Dataset Columns:**\n",
        "\n",
        "1. Quality of Sleep (scale: 1-10): A subjective rating of the quality of sleep, ranging from 1 to 10.\n",
        "2. Physical Activity Level (minutes/day): The number of minutes the person engages in physical activity daily.\n",
        "3. Stress Level (scale: 1-10): A subjective rating of the stress level experienced by the person, ranging from 1 to 10.\n",
        "4. BMI Category: The BMI category of the person (Underweight, Normal, Overweight).\n",
        "5. Blood Pressure (systolic/diastolic): The blood pressure measurement of the person, indicated as systolic pressure over diastolic pressure.\n",
        "6. Heart Rate (bpm): The resting heart rate of the person in beats per minute.\n",
        "7. Daily Steps: The number of steps the person takes per day.\n",
        "8. Sleep Disorder: The presence or absence of a sleep disorder in the person (None, Insomnia, Sleep Apnea).\n",
        "\n",
        "**Details about Sleep Disorder Column:**\n",
        "\n",
        "- None: The individual does not exhibit any specific sleep disorder.\n",
        "- Insomnia: The individual experiences difficulty falling asleep or staying asleep.\n",
        "- Sleep Apnea: The individual suffers from pauses in breathing during sleep.\n",
        "\n"
      ]
    },
    {
      "cell_type": "code",
      "execution_count": 3,
      "metadata": {
        "id": "9ZS9_rmW8E-e"
      },
      "outputs": [],
      "source": [
        "import pandas as pd\n",
        "import numpy as np\n",
        "import seaborn as sns\n",
        "from scipy.stats import t, norm\n",
        "import scipy.stats\n",
        "import matplotlib.pyplot as plt\n",
        "from sklearn.linear_model import LinearRegression\n",
        "import warnings\n",
        "\n",
        "warnings.filterwarnings('ignore')"
      ]
    },
    {
      "cell_type": "code",
      "source": [
        "df = pd.read_csv('/content/Sleep_health_and_lifestyle_dataset.csv')"
      ],
      "metadata": {
        "id": "v5ndhy6bExtj"
      },
      "execution_count": 4,
      "outputs": []
    },
    {
      "cell_type": "code",
      "source": [
        "df.describe().T"
      ],
      "metadata": {
        "id": "xxRDUOYJE_Br"
      },
      "execution_count": null,
      "outputs": []
    },
    {
      "cell_type": "code",
      "source": [
        "df.head()"
      ],
      "metadata": {
        "id": "Mqf2bZ2cFDfA"
      },
      "execution_count": null,
      "outputs": []
    },
    {
      "cell_type": "markdown",
      "source": [
        "## Data preprocessing\n"
      ],
      "metadata": {
        "id": "cH2i6932FOic"
      }
    },
    {
      "cell_type": "markdown",
      "source": [
        "Let's check null values"
      ],
      "metadata": {
        "id": "7hQuLB3SFmVR"
      }
    },
    {
      "cell_type": "markdown",
      "source": [
        "> Which commands give the count of missing values per column vs per row?\n",
        "> Which one is useful ?"
      ],
      "metadata": {
        "id": "9A7eOYB5ID7W"
      }
    },
    {
      "cell_type": "code",
      "source": [
        "df.isnull().sum(axis=0)\n",
        "# VS\n",
        "# df.isnull().sum(axis=1)"
      ],
      "metadata": {
        "id": "elIwq6HpFJUL"
      },
      "execution_count": null,
      "outputs": []
    },
    {
      "cell_type": "markdown",
      "source": [
        "Let's check what's happening in Sleep disorder column"
      ],
      "metadata": {
        "id": "HupYUR65IWH6"
      }
    },
    {
      "cell_type": "code",
      "source": [
        "df['Sleep Disorder'].unique()"
      ],
      "metadata": {
        "colab": {
          "base_uri": "https://localhost:8080/"
        },
        "id": "s4QqtMhXGaQ3",
        "outputId": "e069afb7-1eca-402e-c951-6f0be0467955"
      },
      "execution_count": 8,
      "outputs": [
        {
          "output_type": "execute_result",
          "data": {
            "text/plain": [
              "array([nan, 'Sleep Apnea', 'Insomnia'], dtype=object)"
            ]
          },
          "metadata": {},
          "execution_count": 8
        }
      ]
    },
    {
      "cell_type": "code",
      "source": [
        "df['Sleep Disorder'].fillna('None', inplace=True)\n",
        "print(df['Sleep Disorder'].unique())"
      ],
      "metadata": {
        "colab": {
          "base_uri": "https://localhost:8080/"
        },
        "id": "kN0ng34kIb2U",
        "outputId": "d70b7a6c-4bf4-4c3e-eaf8-d348ed305119"
      },
      "execution_count": 9,
      "outputs": [
        {
          "output_type": "stream",
          "name": "stdout",
          "text": [
            "['None' 'Sleep Apnea' 'Insomnia']\n"
          ]
        }
      ]
    },
    {
      "cell_type": "code",
      "source": [
        "# dropping unuseful column\n",
        "df.drop('Person ID',axis=1,inplace=True)"
      ],
      "metadata": {
        "id": "tKQjQ7ecImgr"
      },
      "execution_count": 10,
      "outputs": []
    },
    {
      "cell_type": "code",
      "source": [
        "# rename them for easier to use\n",
        "df.columns = ['gender', 'age', 'occupation', 'sleep_dur', 'sleep_q', 'phys_act','stress', 'bmi', 'bld_pressure', 'hr', 'steps', 'sleep_dis']"
      ],
      "metadata": {
        "id": "43farGQsI-vR"
      },
      "execution_count": 11,
      "outputs": []
    },
    {
      "cell_type": "markdown",
      "source": [
        "After having a look at the blood pressure column,we find it is unsuitable as numeric values"
      ],
      "metadata": {
        "id": "1bdVgr4pJHcy"
      }
    },
    {
      "cell_type": "code",
      "source": [
        "df['bld_pressure'].head()"
      ],
      "metadata": {
        "id": "6cvnsBo8JHQR"
      },
      "execution_count": null,
      "outputs": []
    },
    {
      "cell_type": "markdown",
      "source": [
        "We split it into 2 columns: High & Low Blood pressure"
      ],
      "metadata": {
        "id": "8-17NG0jJcnN"
      }
    },
    {
      "cell_type": "code",
      "source": [
        "df = pd.concat([df, df['bld_pressure'].str.split('/', expand=True)], axis=1).drop(\n",
        "    'bld_pressure', axis=1)\n",
        "\n",
        "df=df.rename(columns={0: 'pressure_h', 1: 'pressure_l'})\n",
        "df['pressure_h'] = df['pressure_h'].astype(float)\n",
        "df['pressure_l'] = df['pressure_l'].astype(float)"
      ],
      "metadata": {
        "id": "2DlOGHj6JaZQ"
      },
      "execution_count": 13,
      "outputs": []
    },
    {
      "cell_type": "code",
      "source": [
        "print(df['pressure_h'].head())\n",
        "print(df['pressure_l'].head())"
      ],
      "metadata": {
        "id": "hW-qmj3JKTXa"
      },
      "execution_count": null,
      "outputs": []
    },
    {
      "cell_type": "markdown",
      "source": [
        "## Visualization 1: Correlation matrix"
      ],
      "metadata": {
        "id": "XubYDA3PKetm"
      }
    },
    {
      "cell_type": "code",
      "source": [
        "df.corr(numeric_only=True)"
      ],
      "metadata": {
        "id": "2xWkUhIfKYVG"
      },
      "execution_count": null,
      "outputs": []
    },
    {
      "cell_type": "markdown",
      "source": [
        "> Why do we need the line:\n",
        "mask[np.tril_indices_from(mask)] = False\n",
        "\n",
        "\n",
        "> Why do we need hiding some part of the matrix?"
      ],
      "metadata": {
        "id": "tDTYZDwbNaG9"
      }
    },
    {
      "cell_type": "code",
      "source": [
        "# Pearson correlation matrix\n",
        "\n",
        "corr = df.corr(method = 'pearson', numeric_only=True)\n",
        "mask = np.array(corr)\n",
        "\n",
        "mask[np.tril_indices_from(mask)] = False\n",
        "\n",
        "fig, ax = plt.subplots(figsize = (15,10))\n",
        "sns.heatmap(corr, mask = mask, vmax = 0.9, square = True, annot = True)"
      ],
      "metadata": {
        "id": "2MoLHrNTKqC9"
      },
      "execution_count": null,
      "outputs": []
    },
    {
      "cell_type": "markdown",
      "source": [
        "**Questions**\n",
        "1. Which quantity does stress affect the most ?\n",
        "\n",
        "2. **“Does age seem to affect sleep quality or stress more?”**\n",
        "\n",
        "3. **“Is there any variable pair that seems independent ?”**\n",
        "\n",
        "4. What two variables have an almost perfect positive correlation?"
      ],
      "metadata": {
        "id": "0IDe4VvLQKfH"
      }
    },
    {
      "cell_type": "markdown",
      "source": [
        "## Visualization 2: Scatterplot matrix"
      ],
      "metadata": {
        "id": "XylNss4vSWL_"
      }
    },
    {
      "cell_type": "code",
      "source": [
        "# let's take closer look making linear regression matrix for each value\n",
        "\n",
        "sns.pairplot(df, kind='reg', plot_kws={'line_kws': {'color': 'red'}})"
      ],
      "metadata": {
        "id": "TBIVvsRnTdI3"
      },
      "execution_count": null,
      "outputs": []
    },
    {
      "cell_type": "markdown",
      "source": [
        "Spot:\n",
        "1. Stress vs sleep-quality\n",
        "2. Sleep quality vs Heart rate"
      ],
      "metadata": {
        "id": "-yBgMTKqagyD"
      }
    },
    {
      "cell_type": "markdown",
      "source": [
        "## Visualization 3: Population distribution"
      ],
      "metadata": {
        "id": "lQB1ag5-b1T_"
      }
    },
    {
      "cell_type": "code",
      "source": [
        "# Categories of interviewed people\n",
        "\n",
        "categories = ['gender', 'occupation', 'bmi', 'sleep_dis']\n",
        "\n",
        "fig, axes = plt.subplots(nrows=2, ncols=2, figsize=(12, 8))\n",
        "\n",
        "for i, category in enumerate(categories):\n",
        "    row = i // 2\n",
        "    col = i % 2\n",
        "\n",
        "    counts = df[category].value_counts()\n",
        "\n",
        "    axes[row, col].bar(counts.index, counts)\n",
        "    axes[row, col].set_title(f'{category} distribution')\n",
        "    axes[row, col].set_xlabel(category)\n",
        "    axes[row, col].set_ylabel('count')\n",
        "\n",
        "plt.tight_layout()\n",
        "plt.show()\n"
      ],
      "metadata": {
        "id": "86d8vP4aagHw"
      },
      "execution_count": null,
      "outputs": []
    },
    {
      "cell_type": "markdown",
      "source": [
        "> Have a look at x axis in occupation plot. It looks horrible due to jumbled up labels, so one trick is to rotate the labels by some angle.\n",
        "\n",
        "> Does anyone know the function we could use ?\n"
      ],
      "metadata": {
        "id": "-wsf2qkkchF7"
      }
    },
    {
      "cell_type": "markdown",
      "source": [
        "Key:\n",
        "\n",
        "* Significant amount of interviewed have overweight\n",
        "* Third of the interviewed have trouble or lack of sleep"
      ],
      "metadata": {
        "id": "LHjmEgGEicAN"
      }
    },
    {
      "cell_type": "markdown",
      "source": [
        "## Visualization 4: Histogram"
      ],
      "metadata": {
        "id": "DaNwLyqzmE8C"
      }
    },
    {
      "cell_type": "code",
      "source": [
        "age_groups = [20, 30, 40, 50, 60]\n",
        "df['age_group'] = pd.cut(df['age'], bins=age_groups)\n",
        "\n",
        "sns.catplot(data=df, x='age_group', hue='stress', col='gender', kind='count')\n",
        "\n",
        "plt.xlabel('Age Group')\n",
        "plt.ylabel('Count')\n",
        "plt.suptitle('Gender, Stress, and Age Group')\n",
        "plt.xticks(rotation=45)\n",
        "plt.show()"
      ],
      "metadata": {
        "id": "Dw3WYLzgmNGN"
      },
      "execution_count": null,
      "outputs": []
    },
    {
      "cell_type": "markdown",
      "source": [
        "1. Men in their 20s and 30s feel a lot of stress.\n",
        "2. Women experience high stress much later, in their 40s."
      ],
      "metadata": {
        "id": "fmnXOjMBnhTX"
      }
    },
    {
      "cell_type": "markdown",
      "source": [
        "## Visualization 5: Box plot"
      ],
      "metadata": {
        "id": "wnG-soqUjxwl"
      }
    },
    {
      "cell_type": "code",
      "source": [
        "# Starting with quality of sleep\n",
        "\n",
        "sns.boxplot(data=df, x='gender', y='sleep_q')\n",
        "\n",
        "plt.xlabel('Gender')\n",
        "plt.ylabel('Sleep Quality')\n",
        "plt.title('Gender vs. Sleep Quality')\n",
        "\n",
        "plt.show()"
      ],
      "metadata": {
        "id": "yhHwX52JMX3F"
      },
      "execution_count": null,
      "outputs": []
    },
    {
      "cell_type": "markdown",
      "source": [
        "Key:\n",
        "\n",
        "Females have better sleep quality than males, which could be reason why women are less stressed"
      ],
      "metadata": {
        "id": "ltOFlTk5khLB"
      }
    },
    {
      "cell_type": "code",
      "source": [
        "sns.boxplot(data=df, x='phys_act', y='sleep_dur')\n",
        "\n",
        "plt.xlabel('Physical Activity hours')\n",
        "plt.ylabel('Sleep Duration')\n",
        "plt.title('Sleep duration vs Physical activity')\n",
        "\n",
        "plt.show()"
      ],
      "metadata": {
        "id": "TOSm7tCYs69o"
      },
      "execution_count": null,
      "outputs": []
    },
    {
      "cell_type": "code",
      "source": [
        "ax = sns.boxplot(data=df, x=\"stress\", y=\"sleep_dur\", showfliers=False)\n",
        "sns.stripplot(data=df, x=\"stress\", y=\"sleep_dur\", alpha=0.5, size=3, jitter=0.15)\n"
      ],
      "metadata": {
        "id": "zXXQrX8LhCX-"
      },
      "execution_count": null,
      "outputs": []
    },
    {
      "cell_type": "markdown",
      "source": [
        "> Stress only comes in discrete values then why do we have values around the discrete stress interval also ?\n",
        "\n",
        "Hint: Look at the stripplot command"
      ],
      "metadata": {
        "id": "ANy5WfwihuCA"
      }
    },
    {
      "cell_type": "markdown",
      "source": [
        "## Visualization 6: Stacked plots\n",
        "Let's see effect of occupation in contributing to the stress"
      ],
      "metadata": {
        "id": "WD1Z225Ioh4R"
      }
    },
    {
      "cell_type": "code",
      "source": [
        "# Look closely to stress level by profession\n",
        "\n",
        "occupation_stress = pd.crosstab(df['occupation'], df['stress'])\n",
        "occupation_stress.plot(kind='bar', stacked=True)\n",
        "\n",
        "plt.xlabel('Occupation')\n",
        "plt.ylabel('Count')\n",
        "plt.title('Occupation vs. Stress')\n",
        "\n",
        "plt.xticks(rotation=80)\n",
        "plt.show()"
      ],
      "metadata": {
        "id": "LKdRsY2dlIs2"
      },
      "execution_count": null,
      "outputs": []
    },
    {
      "cell_type": "markdown",
      "source": [
        "Key:\n",
        "\n",
        "* Doctors, Salespersons, Scientists and Sales Representatives feel more stressed\n",
        "* Nurses divided by 2 experience: their job very stressful or not stressful at all\n",
        "* Lawyers are somewhere in the middle. Their job is not that intense\n",
        "* Teachers and Accountants and Engineers are feel less stressful"
      ],
      "metadata": {
        "id": "TVwX-F4ZpXg7"
      }
    },
    {
      "cell_type": "markdown",
      "metadata": {
        "papermill": {
          "duration": 0.039494,
          "end_time": "2023-06-26T23:56:10.781580",
          "exception": false,
          "start_time": "2023-06-26T23:56:10.742086",
          "status": "completed"
        },
        "tags": [],
        "id": "56f7450c"
      },
      "source": [
        "# Visualization 7: Simpson's paradox"
      ]
    },
    {
      "cell_type": "code",
      "source": [
        "# Let's divide respondents based on gender & see sleep_duration and stress level trend.\n",
        "\n",
        "fig, axs = plt.subplots(2, 1, figsize=(6, 8))\n",
        "\n",
        "sns.regplot(data=df, x='sleep_dur', y='stress', ax=axs[0], label='Population')\n",
        "axs[0].set_xlabel('Sleep Duration')\n",
        "axs[0].set_ylabel('Stress Level')\n",
        "axs[0].set_title('Stress Levels Comparison')\n",
        "axs[0].legend()\n",
        "\n",
        "sns.regplot(data=df[df['gender'] == 'Male'], x='sleep_dur', y='stress', ax=axs[1], label='Male')\n",
        "sns.regplot(data=df[df['gender'] == 'Female'], x='sleep_dur', y='stress', ax=axs[1], label='Female')\n",
        "axs[1].set_xlabel('Sleep Duration')\n",
        "axs[1].set_ylabel('Stress Level')\n",
        "axs[1].set_title('Stress Levels Comparison')\n",
        "axs[1].legend()\n",
        "\n",
        "plt.tight_layout()\n",
        "plt.show()\n"
      ],
      "metadata": {
        "id": "0e8h6hmzJh7n"
      },
      "execution_count": null,
      "outputs": []
    },
    {
      "cell_type": "markdown",
      "source": [
        "Simpson’s paradox is when the overall (aggregated) relationship between two variables reverses or weakens after you split the data by a third variable (a “lurking”/confounding variable)."
      ],
      "metadata": {
        "id": "9tbRkimpcrZy"
      }
    },
    {
      "cell_type": "code",
      "source": [
        "# Let's divide respondents based on age groups & see sleep_duration and stress level trend.\n",
        "\n",
        "young = df[(df['age'] >= 20) & (df['age'] <= 35)]\n",
        "middle_age = df[(df['age'] > 35) & (df['age'] <= 50)]\n",
        "seniors = df[(df['age'] > 50)]\n",
        "\n",
        "fig, axs = plt.subplots(2, 1, figsize=(6, 8))\n",
        "\n",
        "sns.regplot(data=df, x='sleep_dur', y='stress', ax=axs[0], label='Population')\n",
        "axs[0].set_xlabel('Sleep duration')\n",
        "axs[0].set_ylabel('Stress Level')\n",
        "axs[0].set_title('Stress Levels Comparison')\n",
        "axs[0].legend()\n",
        "\n",
        "sns.regplot(data=young, x='sleep_dur', y='stress', ax=axs[1], label='Young')\n",
        "sns.regplot(data=middle_age, x='sleep_dur', y='stress', ax=axs[1], label='Middle')\n",
        "sns.regplot(data=seniors, x='sleep_dur', y='stress', ax=axs[1], label='Seniors')\n",
        "\n",
        "axs[1].set_xlabel('Sleep duration')\n",
        "axs[1].set_ylabel('Stress Level')\n",
        "axs[1].set_title('Stress Levels Comparison')\n",
        "axs[1].legend()\n",
        "\n",
        "plt.tight_layout()\n",
        "plt.show()\n"
      ],
      "metadata": {
        "id": "6_8dYFMU8q2L"
      },
      "execution_count": null,
      "outputs": []
    },
    {
      "cell_type": "markdown",
      "source": [
        "**Absence of Trend reversal: What does it suggest ?**"
      ],
      "metadata": {
        "id": "dmT3asX--Y4X"
      }
    },
    {
      "cell_type": "markdown",
      "source": [
        "## Visualization 8: Violin plots\n"
      ],
      "metadata": {
        "id": "qkq2x00bf1p2"
      }
    },
    {
      "cell_type": "code",
      "source": [
        "sns.violinplot(data=df, x=\"stress\", y=\"sleep_dur\", inner=None)\n",
        "sns.stripplot(data=df, x=\"stress\", y=\"sleep_dur\", alpha=0.5)\n"
      ],
      "metadata": {
        "id": "zejQiJKWyQRt"
      },
      "execution_count": null,
      "outputs": []
    },
    {
      "cell_type": "markdown",
      "source": [
        "> We have already shown this plot as a box plot. Which of these two graphs is redundant & why ?\n"
      ],
      "metadata": {
        "id": "3nk5NN2_h_gM"
      }
    },
    {
      "cell_type": "markdown",
      "metadata": {
        "papermill": {
          "duration": 0.03967,
          "end_time": "2023-06-26T23:56:14.087145",
          "exception": false,
          "start_time": "2023-06-26T23:56:14.047475",
          "status": "completed"
        },
        "tags": [],
        "id": "31bec0e7"
      },
      "source": [
        "# Visualization 9: 3D plots"
      ]
    },
    {
      "cell_type": "markdown",
      "source": [
        "> Based on this visualization what are the most stressed occupation clusters ?"
      ],
      "metadata": {
        "id": "slxJnKrJt5wL"
      }
    },
    {
      "cell_type": "code",
      "source": [
        "import plotly.express as px\n",
        "\n",
        "fig = px.scatter_3d(\n",
        "    df,\n",
        "    x='age',            # X-axis\n",
        "    y='stress',         # Y-axis\n",
        "    z='sleep_dur',      # Z-axis\n",
        "    color='phys_act',   # optional 4th variable (color intensity)\n",
        "    size='stress',      # optional: marker size by stress\n",
        "    hover_name='occupation',   # show job title when hovering\n",
        "    title='3D Visualization: Age, Stress, and Sleep Duration'\n",
        ")\n",
        "\n",
        "fig.update_traces(marker=dict(opacity=0.8))\n",
        "fig.update_layout(scene=dict(\n",
        "    xaxis_title='Age',\n",
        "    yaxis_title='Stress Level',\n",
        "    zaxis_title='Sleep Duration'\n",
        "))\n",
        "\n",
        "fig.show()\n"
      ],
      "metadata": {
        "id": "iU7SD7xVmEC4"
      },
      "execution_count": null,
      "outputs": []
    },
    {
      "cell_type": "markdown",
      "source": [
        "## Conclusions"
      ],
      "metadata": {
        "id": "Sc9P_wJBUDsv"
      }
    },
    {
      "cell_type": "markdown",
      "metadata": {
        "papermill": {
          "duration": 0.043129,
          "end_time": "2023-06-26T23:56:14.860452",
          "exception": false,
          "start_time": "2023-06-26T23:56:14.817323",
          "status": "completed"
        },
        "tags": [],
        "id": "6d6686ab"
      },
      "source": [
        "1. **Stress vs age:** Stress is high in the 20s, spreads out in the 30s, often rises in the 40s, and drops after ~50 (the decline is clearer for women).\n",
        "2. **Gender & sleep:** Women report **better sleep quality** and, correspondingly, slightly **lower stress**; once you consider age and job, gender gaps are small.\n",
        "3. **Occupation:** **Doctors, sales/sales-rep, and scientists** show higher stress; **teachers, accountants, engineers** are lower; **nurses** are split with a midlife peak then decline.\n",
        "4. **Sleep & health:** Better/longer sleep is generally associated with **lower stress** and **lower blood pressure** across groups.\n",
        "5. **Caution:** This is a small sample; we did **not** find a consistent Simpson’s paradox—faceting by age, job, or sleep disorder changes magnitudes more than direction.\n"
      ]
    },
    {
      "cell_type": "code",
      "source": [],
      "metadata": {
        "id": "acwBxeCgmL-a"
      },
      "execution_count": 27,
      "outputs": []
    }
  ]
}