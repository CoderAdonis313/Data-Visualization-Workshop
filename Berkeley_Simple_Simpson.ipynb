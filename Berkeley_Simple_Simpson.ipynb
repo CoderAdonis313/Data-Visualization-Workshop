{
  "cells": [
    {
      "cell_type": "markdown",
      "id": "73d65578",
      "metadata": {
        "id": "73d65578"
      },
      "source": [
        "\n",
        "# UC Berkeley Admissions (1973) — Simpson's Paradox (Simple)\n",
        "\n",
        "This notebook uses **basic Pandas + Matplotlib** to show the classic trend **flip**:\n",
        "- **Pooled** across departments, men appear to have a higher admission rate.\n",
        "- **Within each department**, women have a higher rate in most departments.\n"
      ]
    },
    {
      "cell_type": "code",
      "execution_count": 29,
      "id": "d57049bc",
      "metadata": {
        "id": "d57049bc"
      },
      "outputs": [],
      "source": [
        "\n",
        "import os\n",
        "import pandas as pd\n",
        "import matplotlib.pyplot as plt\n",
        "plt.rcParams['figure.dpi'] = 110\n"
      ]
    },
    {
      "cell_type": "markdown",
      "id": "9ede5563",
      "metadata": {
        "id": "9ede5563"
      },
      "source": [
        "## 1) Load data (use local `/mnt/data/berkeley.csv` if available, else built-in table)"
      ]
    },
    {
      "cell_type": "code",
      "execution_count": null,
      "id": "9c1b07c0",
      "metadata": {
        "id": "9c1b07c0"
      },
      "outputs": [],
      "source": [
        "\n",
        "path = \"/content/berkeley.csv\"\n",
        "\n",
        "if os.path.exists(path):\n",
        "    df = pd.read_csv(path)\n",
        "    # standardize names if present\n",
        "    df = df.rename(columns={'Major':'Dept','Sex':'Gender','Admission':'Admit'})\n",
        "    if 'Year' in df.columns:\n",
        "        df = df[df['Year']==1973]\n",
        "    if 'Dept' in df.columns:\n",
        "        df = df[df['Dept'].isin(list('ABCDEF'))]\n",
        "    df['Freq'] = 1\n",
        "    agg = df.groupby(['Admit','Gender','Dept'])['Freq'].sum().reset_index()\n",
        "\n",
        "    agg = agg[['Admit','Gender','Dept','Freq']]\n",
        "\n",
        "agg.head()"
      ]
    },
    {
      "cell_type": "markdown",
      "id": "762b148c",
      "metadata": {
        "id": "762b148c"
      },
      "source": [
        "## 2) Overall admission rate by gender (pooled)"
      ]
    },
    {
      "cell_type": "code",
      "execution_count": 31,
      "id": "f6ef20c9",
      "metadata": {
        "colab": {
          "base_uri": "https://localhost:8080/"
        },
        "id": "f6ef20c9",
        "outputId": "7beda8fb-6b3d-4767-ab60-2d8da08b102a"
      },
      "outputs": [
        {
          "output_type": "stream",
          "name": "stdout",
          "text": [
            "Admit   Accepted  Rejected      Rate\n",
            "Gender                              \n",
            "F            557      1278  0.303542\n",
            "M           1511      1493  0.502996\n"
          ]
        }
      ],
      "source": [
        "\n",
        "overall = agg.groupby(['Gender','Admit'])['Freq'].sum().unstack(fill_value=0)\n",
        "overall['Rate'] = overall['Accepted'] / (overall['Accepted'] + overall['Rejected'])\n",
        "print(overall[['Accepted','Rejected','Rate']])"
      ]
    },
    {
      "cell_type": "code",
      "execution_count": null,
      "id": "effb460c",
      "metadata": {
        "id": "effb460c"
      },
      "outputs": [],
      "source": [
        "\n",
        "# Simple bar chart (overall)\n",
        "plt.figure(figsize=(5,3.5))\n",
        "plt.bar(overall.index, overall['Rate'])\n",
        "for i, v in enumerate(overall['Rate']):\n",
        "    plt.text(i, v, f\"{v*100:.1f}%\", ha='center', va='bottom')\n",
        "plt.ylim(0,1)\n",
        "plt.ylabel(\"Admission rate\")\n",
        "plt.title(\"Overall admission rate by gender (pooled)\")\n",
        "plt.show()"
      ]
    },
    {
      "cell_type": "markdown",
      "id": "e087968d",
      "metadata": {
        "id": "e087968d"
      },
      "source": [
        "## 3) Within-department admission rates (stratified)"
      ]
    },
    {
      "cell_type": "code",
      "execution_count": 33,
      "id": "47ad7d3d",
      "metadata": {
        "colab": {
          "base_uri": "https://localhost:8080/"
        },
        "id": "47ad7d3d",
        "outputId": "93c2306b-1872-4e26-d757-cab0b564722b"
      },
      "outputs": [
        {
          "output_type": "stream",
          "name": "stdout",
          "text": [
            "Gender         F         M\n",
            "Dept                      \n",
            "A       0.824074  0.724956\n",
            "B       0.680000  0.630357\n",
            "C       0.338954  0.369231\n",
            "D       0.349333  0.330935\n",
            "E       0.239186  0.277487\n",
            "F       0.073314  0.058981\n"
          ]
        }
      ],
      "source": [
        "\n",
        "dept = agg.groupby(['Dept','Gender','Admit'])['Freq'].sum().unstack(fill_value=0).reset_index()\n",
        "dept['Rate'] = dept['Accepted'] / (dept['Accepted'] + dept['Rejected'])\n",
        "wide = dept.pivot(index='Dept', columns='Gender', values='Rate').sort_index()\n",
        "print(wide)"
      ]
    },
    {
      "cell_type": "code",
      "execution_count": null,
      "id": "4385696a",
      "metadata": {
        "id": "4385696a"
      },
      "outputs": [],
      "source": [
        "\n",
        "# Grouped bars per department (Female vs Male)\n",
        "x = range(len(wide.index))\n",
        "w = 0.35\n",
        "\n",
        "plt.figure(figsize=(7,4))\n",
        "plt.bar([i - w/2 for i in x], wide['F'].values, width=w, label='Female')\n",
        "plt.bar([i + w/2 for i in x], wide['M'].values,   width=w, label='Male')\n",
        "plt.xticks(x, wide.index)\n",
        "plt.ylim(0,1)\n",
        "plt.ylabel(\"Admission rate\")\n",
        "plt.title(\"Within each department\")\n",
        "plt.legend()\n",
        "plt.tight_layout()\n",
        "plt.show()"
      ]
    },
    {
      "cell_type": "markdown",
      "id": "78d9d132",
      "metadata": {
        "id": "78d9d132"
      },
      "source": [
        "## 4) Show the flip"
      ]
    },
    {
      "cell_type": "code",
      "execution_count": null,
      "id": "d3d69424",
      "metadata": {
        "id": "d3d69424"
      },
      "outputs": [],
      "source": [
        "\n",
        "print(\"OVERALL:\", f\"Male={overall.loc['M','Rate']*100:.1f}%\",\n",
        "                 f\"Female={overall.loc['F','Rate']*100:.1f}%\")\n",
        "wins = (wide['F'] > wide['M']).sum()\n",
        "total = len(wide)\n",
        "print(f\"WITHIN DEPARTMENTS: Female higher in {wins}/{total} departments.\")"
      ]
    },
    {
      "cell_type": "markdown",
      "id": "93587c94",
      "metadata": {
        "id": "93587c94"
      },
      "source": [
        "\n",
        "### Conclusion\n",
        "- Pooled across departments, **men** look better.\n",
        "- Within departments, **women** have higher rates in most departments.\n",
        "- The flip happens because the **mix of departments** each gender applied to is different (women applied more to competitive depts).\n"
      ]
    }
  ],
  "metadata": {
    "colab": {
      "provenance": []
    },
    "language_info": {
      "name": "python"
    },
    "kernelspec": {
      "name": "python3",
      "display_name": "Python 3"
    }
  },
  "nbformat": 4,
  "nbformat_minor": 5
}